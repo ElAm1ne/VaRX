{
 "cells": [
  {
   "cell_type": "code",
   "execution_count": 76,
   "metadata": {},
   "outputs": [],
   "source": [
    "import matplotlib.pyplot as plt\n",
    "import pandas as pd\n",
    "import numpy as np"
   ]
  },
  {
   "cell_type": "code",
   "execution_count": 77,
   "metadata": {},
   "outputs": [],
   "source": [
    "def get_num_of_occurences(X):\n",
    "    dicto = {}\n",
    "    for i in range(len(X)):\n",
    "        if X[i] in dicto:\n",
    "            dicto[X[i]] += 1\n",
    "        else:\n",
    "            dicto[X[i]] = 1\n",
    "    return dicto\n",
    "\n"
   ]
  },
  {
   "cell_type": "code",
   "execution_count": 78,
   "metadata": {},
   "outputs": [],
   "source": [
    "def get_freq(X):\n",
    "    sum_tot = len(X)\n",
    "    set_x = list(set(X))\n",
    "    S = sorted(set_x)\n",
    "    dicte = get_num_of_occurences(X)\n",
    "    freq = []\n",
    "    s = 0\n",
    "    for i in range(len(S)):\n",
    "        s += dicte[S[i]]\n",
    "        freq.append(s/sum_tot)\n",
    "    return S, freq\n"
   ]
  },
  {
   "cell_type": "code",
   "execution_count": 79,
   "metadata": {},
   "outputs": [
    {
     "data": {
      "text/plain": [
       "([1, 2, 5, 6],\n",
       " [0.2857142857142857, 0.42857142857142855, 0.8571428571428571, 1.0])"
      ]
     },
     "execution_count": 79,
     "metadata": {},
     "output_type": "execute_result"
    }
   ],
   "source": [
    "X = [2,1,1,6,5,5,5]\n",
    "get_freq(X)"
   ]
  },
  {
   "cell_type": "code",
   "execution_count": 80,
   "metadata": {},
   "outputs": [
    {
     "data": {
      "text/plain": [
       "<matplotlib.lines.Line2D at 0x1e0c2db6bc0>"
      ]
     },
     "execution_count": 80,
     "metadata": {},
     "output_type": "execute_result"
    },
    {
     "data": {
      "image/png": "[encoded data removed]",
      "text/plain": [
       "<Figure size 640x480 with 1 Axes>"
      ]
     },
     "metadata": {},
     "output_type": "display_data"
    }
   ],
   "source": [
    "x, y = get_freq(X)\n",
    "plt.plot(x, y)\n",
    "plt.axhline(0.95, color = 'r')"
   ]
  },
  {
   "cell_type": "code",
   "execution_count": 81,
   "metadata": {},
   "outputs": [],
   "source": [
    "def get_quart(X, alpha):\n",
    "    x,y = get_freq(X)\n",
    "    for i in range(len(x)):\n",
    "        if y[i] >= alpha:\n",
    "            return x[i]\n",
    "        \n",
    "def VaR(X, alpha):\n",
    "    return -get_quart(X, 1-alpha)\n",
    "\n",
    "def troncat(x):\n",
    "    return int(x)+ (int(x*10)%10)/10"
   ]
  },
  {
   "cell_type": "code",
   "execution_count": 101,
   "metadata": {},
   "outputs": [
    {
     "data": {
      "text/plain": [
       "11.6"
      ]
     },
     "execution_count": 101,
     "metadata": {},
     "output_type": "execute_result"
    }
   ],
   "source": [
    "import numpy.random as sim\n",
    "data = [troncat(-10+2*sim.randn()) for i in range(10000)]\n",
    "VaR(data, 0.9)"
   ]
  },
  {
   "cell_type": "code",
   "execution_count": 102,
   "metadata": {},
   "outputs": [],
   "source": [
    "def TVaR(data, alpha, n):\n",
    "    betas = np.linspace(alpha, 1, n)\n",
    "    s = 0\n",
    "    for x in betas:\n",
    "        s+= VaR(data, x)\n",
    "\n",
    "    return s/n\n"
   ]
  },
  {
   "cell_type": "code",
   "execution_count": 106,
   "metadata": {},
   "outputs": [
    {
     "data": {
      "text/plain": [
       "12.552799999999996"
      ]
     },
     "execution_count": 106,
     "metadata": {},
     "output_type": "execute_result"
    }
   ],
   "source": [
    "TVaR(data, 0.9,1000)"
   ]
  },
  {
   "attachments": {},
   "cell_type": "markdown",
   "metadata": {},
   "source": [
    "Reprendre les données des actions du CAC40 de l'exercice en gestion de portefeuille\n",
    "On va resoudre le pb suivant de minimisation:\n",
    "\n",
    "min Ro(R*)\n",
    "ER* >= 5% annuel\n",
    "\n",
    "R* = Rx\n",
    "Ro(R*) = VaR95%(R*)"
   ]
  },
  {
   "cell_type": "code",
   "execution_count": null,
   "metadata": {},
   "outputs": [],
   "source": []
  }
 ],
 "metadata": {
  "kernelspec": {
   "display_name": "Python 3",
   "language": "python",
   "name": "python3"
  },
  "language_info": {
   "codemirror_mode": {
    "name": "ipython",
    "version": 3
   },
   "file_extension": ".py",
   "mimetype": "text/x-python",
   "name": "python",
   "nbconvert_exporter": "python",
   "pygments_lexer": "ipython3",
   "version": "3.10.7"
  },
  "orig_nbformat": 4,
  "vscode": {
   "interpreter": {
    "hash": "fb4569285eef3a3450cb62085a5b1e0da4bce0af555edc33dcf29baf3acc1368"
   }
  }
 },
 "nbformat": 4,
 "nbformat_minor": 2
}
