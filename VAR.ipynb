{
 "cells": [
  {
   "cell_type": "code",
   "execution_count": 177,
   "metadata": {},
   "outputs": [
    {
     "data": {
      "text/plain": [
       "array([ -7.2,  -5.7,  -5.5, ...,  -9.3, -11.7,  -9.3])"
      ]
     },
     "execution_count": 177,
     "metadata": {},
     "output_type": "execute_result"
    }
   ],
   "source": [
    "import numpy.random as sim\n",
    "import numpy as np\n",
    "def arrondi(x):\n",
    "    return int(x)+ (int(x*10)%10)/10\n",
    "data = np.array([arrondi(-10+2*sim.randn()) for i in range(100000)], dtype = np.float64)\n",
    "data"
   ]
  },
  {
   "cell_type": "code",
   "execution_count": 178,
   "metadata": {},
   "outputs": [],
   "source": [
    "def get_freq(data):\n",
    "    sorted_data = sorted(data)\n",
    "    freq = []\n",
    "    x = []\n",
    "    n = len(sorted_data)\n",
    "    for i in range(len(sorted_data)):\n",
    "        if i == 0:\n",
    "            freq.append(1/n)\n",
    "            x.append(sorted_data[i])\n",
    "        elif sorted_data[i-1]!=sorted_data[i]:\n",
    "            freq.append(freq[-1]+1/n)\n",
    "            x.append(sorted_data[i])\n",
    "        else:\n",
    "            freq[-1] += 1/n\n",
    "    return freq, x"
   ]
  },
  {
   "cell_type": "code",
   "execution_count": 201,
   "metadata": {},
   "outputs": [],
   "source": [
    "import numba as nb\n",
    "@nb.njit\n",
    "def count_sort(data):\n",
    "    pos = data[data >= 0]\n",
    "    neg = data[data <= 0]\n",
    "    if len(pos) == 0:\n",
    "        len_pos = 0\n",
    "    else:\n",
    "        len_pos = max(pos)+1\n",
    "    if len(neg) == 0:\n",
    "        len_neg = 0\n",
    "    else:\n",
    "        len_neg = abs(min(neg))+1\n",
    "    postive_values = np.zeros(len_pos, dtype=np.int64)\n",
    "    negative_values = np.zeros(len_neg, dtype = np.int64)\n",
    "    sorted_list = np.zeros(len(data), dtype=np.int64)\n",
    "    for i in range(len(data)):\n",
    "        if (data[i] >= 0) :\n",
    "            postive_values[data[i]] += 1\n",
    "        else:\n",
    "            negative_values[abs(data[i])] += 1\n",
    "    last_index = 0\n",
    "    for i in range(len(negative_values)):\n",
    "        for j in range(negative_values[len(negative_values) - i - 1]):\n",
    "            sorted_list[last_index] = -(len(negative_values) - i -1)\n",
    "            last_index += 1\n",
    "    for i in range(len(postive_values)):\n",
    "        for j in range(postive_values[i]):\n",
    "            sorted_list[last_index] = i\n",
    "            last_index += 1\n",
    "    return sorted_list"
   ]
  },
  {
   "cell_type": "code",
   "execution_count": 220,
   "metadata": {},
   "outputs": [
    {
     "data": {
      "text/plain": [
       "array([ 42, -64, -49, ...,   2, -22, -86])"
      ]
     },
     "execution_count": 220,
     "metadata": {},
     "output_type": "execute_result"
    }
   ],
   "source": [
    "A = np.random.randint(-100,100,size=10000)\n",
    "A"
   ]
  },
  {
   "cell_type": "code",
   "execution_count": 221,
   "metadata": {},
   "outputs": [
    {
     "data": {
      "text/plain": [
       "array([-100,  -99,  -98,  -97,  -96,  -95,  -94,  -93,  -92,  -91,  -90,\n",
       "        -89,  -88,  -87,  -86,  -85,  -84,  -83,  -82,  -81,  -80,  -79,\n",
       "        -78,  -77,  -76,  -75,  -74,  -73,  -72,  -71,  -70,  -69,  -68,\n",
       "        -67,  -66,  -65,  -64,  -63,  -62,  -61,  -60,  -59,  -58,  -57,\n",
       "        -56,  -55,  -54,  -53,  -52,  -51,  -50,  -49,  -48,  -47,  -46,\n",
       "        -45,  -44,  -43,  -42,  -41,  -40,  -39,  -38,  -37,  -36,  -35,\n",
       "        -34,  -33,  -32,  -31,  -30,  -29,  -28,  -27,  -26,  -25,  -24,\n",
       "        -23,  -22,  -21,  -20,  -19,  -18,  -17,  -16,  -15,  -14,  -13,\n",
       "        -12,  -11,  -10,   -9,   -8,   -7,   -6,   -5,   -4,   -3,   -2,\n",
       "         -1,    0,    1,    2,    3,    4,    5,    6,    7,    8,    9,\n",
       "         10,   11,   12,   13,   14,   15,   16,   17,   18,   19,   20,\n",
       "         21,   22,   23,   24,   25,   26,   27,   28,   29,   30,   31,\n",
       "         32,   33,   34,   35,   36,   37,   38,   39,   40,   41,   42,\n",
       "         43,   44,   45,   46,   47,   48,   49,   50,   51,   52,   53,\n",
       "         54,   55,   56,   57,   58,   59,   60,   61,   62,   63,   64,\n",
       "         65,   66,   67,   68,   69,   70,   71,   72,   73,   74,   75,\n",
       "         76,   77,   78,   79,   80,   81,   82,   83,   84,   85,   86,\n",
       "         87,   88,   89,   90,   91,   92,   93,   94,   95,   96,   97,\n",
       "         98,   99])"
      ]
     },
     "execution_count": 221,
     "metadata": {},
     "output_type": "execute_result"
    }
   ],
   "source": [
    "np.unique(A)"
   ]
  },
  {
   "cell_type": "code",
   "execution_count": 243,
   "metadata": {},
   "outputs": [],
   "source": [
    "@nb.njit\n",
    "def VaR2(data, alpha, l):\n",
    "    sorted_data = count_sort(data)\n",
    "    freq = np.zeros(l, dtype = np.float64)\n",
    "    x = np.zeros(l, dtype = np.int64)\n",
    "    n = len(sorted_data)\n",
    "    last_visited = 0\n",
    "    for i in range(n):\n",
    "        if i == 0:\n",
    "            freq[last_visited] = 1/n\n",
    "            x[last_visited] = sorted_data[i]\n",
    "            if (freq[last_visited] >= 1-alpha) :\n",
    "                return -sorted_data[i]\n",
    "        elif sorted_data[i-1]!=sorted_data[i]:\n",
    "            last_visited += 1\n",
    "            freq[last_visited] = freq[last_visited-1]+1/n\n",
    "            x[last_visited] = sorted_data[i]\n",
    "            if (freq[last_visited] >= 1-alpha) :\n",
    "                return -sorted_data[i]\n",
    "            \n",
    "        else:\n",
    "            freq[last_visited] += 1/n\n",
    "            if (freq[last_visited] >= 1-alpha) :\n",
    "                return -sorted_data[i]"
   ]
  },
  {
   "cell_type": "code",
   "execution_count": 234,
   "metadata": {},
   "outputs": [],
   "source": [
    "def VaR(data, alpha):\n",
    "    freq, x = get_freq(data)\n",
    "    for i in range(len(freq)):\n",
    "        if (freq[i] >= 1-alpha) :\n",
    "            return -x[i]"
   ]
  },
  {
   "cell_type": "code",
   "execution_count": 235,
   "metadata": {},
   "outputs": [],
   "source": [
    "A = np.array(10*data, dtype=np.int64)"
   ]
  },
  {
   "cell_type": "code",
   "execution_count": 236,
   "metadata": {},
   "outputs": [],
   "source": [
    "l = len(set(A))"
   ]
  },
  {
   "cell_type": "code",
   "execution_count": 261,
   "metadata": {},
   "outputs": [
    {
     "data": {
      "text/plain": [
       "74"
      ]
     },
     "execution_count": 261,
     "metadata": {},
     "output_type": "execute_result"
    }
   ],
   "source": [
    "VaR(A, 0.2)"
   ]
  },
  {
   "cell_type": "code",
   "execution_count": 262,
   "metadata": {},
   "outputs": [
    {
     "data": {
      "text/plain": [
       "74"
      ]
     },
     "execution_count": 262,
     "metadata": {},
     "output_type": "execute_result"
    }
   ],
   "source": [
    "VaR2(A,0.2,l)"
   ]
  },
  {
   "cell_type": "code",
   "execution_count": 266,
   "metadata": {},
   "outputs": [],
   "source": [
    "def tVaR(data, alpha, precision):\n",
    "    alphas = np.linspace(alpha,1-(1-alpha)/precision, precision)\n",
    "    sum_VaR = 0\n",
    "    for alpha_i in alphas:\n",
    "        sum_VaR += VaR(data, alpha_i)\n",
    "    \n",
    "    sum_VaR = sum_VaR / precision\n",
    "\n",
    "    return sum_VaR"
   ]
  },
  {
   "cell_type": "code",
   "execution_count": 265,
   "metadata": {},
   "outputs": [],
   "source": [
    "@nb.njit\n",
    "def tVaR2(data, alpha, precision, l):\n",
    "    alphas = np.linspace(alpha,1-(1-alpha)/precision, precision)\n",
    "    sum_VaR = 0\n",
    "    for alpha_i in alphas:\n",
    "        sum_VaR += VaR2(data, alpha_i, l)\n",
    "    \n",
    "    sum_VaR = sum_VaR / precision\n",
    "\n",
    "    return sum_VaR"
   ]
  },
  {
   "cell_type": "code",
   "execution_count": 270,
   "metadata": {},
   "outputs": [
    {
     "name": "stdout",
     "output_type": "stream",
     "text": [
      "4.99 s ± 110 ms per loop (mean ± std. dev. of 7 runs, 1 loop each)\n"
     ]
    }
   ],
   "source": [
    "%timeit tVaR(A,0.99,100)"
   ]
  },
  {
   "cell_type": "code",
   "execution_count": 271,
   "metadata": {},
   "outputs": [
    {
     "name": "stdout",
     "output_type": "stream",
     "text": [
      "44.1 ms ± 930 µs per loop (mean ± std. dev. of 7 runs, 10 loops each)\n"
     ]
    }
   ],
   "source": [
    "%timeit tVaR2(A,0.99,100, l)"
   ]
  },
  {
   "cell_type": "code",
   "execution_count": 272,
   "metadata": {},
   "outputs": [],
   "source": [
    "import pandas as pd\n",
    "import numpy as np\n",
    "import matplotlib.pyplot as plt \n",
    "\n",
    "Accord = pd.read_excel('AccordHotel.xlsm', names = ['id', 'date', 'open', 'high', 'low', 'close', 'volume'])\n",
    "Axa = pd.read_excel('Axa.xlsm', names = ['id', 'date', 'open', 'high', 'low', 'close', 'volume'])\n",
    "BNP = pd.read_excel('BNP.xlsm', names = ['id', 'date', 'open', 'high', 'low', 'close', 'volume'])\n",
    "Casino = pd.read_excel('Casino.xlsm', names = ['id', 'date', 'open', 'high', 'low', 'close', 'volume'])\n",
    "ENGI = pd.read_excel('ENGI.xlsm', names = ['id', 'date', 'open', 'high', 'low', 'close', 'volume'])\n",
    "LVMH = pd.read_excel('LVMH.xlsm', names = ['id', 'date', 'open', 'high', 'low', 'close', 'volume'])\n",
    "Orange = pd.read_excel('Orange.xlsm', names = ['id', 'date', 'open', 'high', 'low', 'close', 'volume'])\n",
    "Peugeot = pd.read_excel('Peugeot.xlsm', names = ['id', 'date', 'open', 'high', 'low', 'close', 'volume'])\n",
    "Renault = pd.read_excel('Renault.xlsm', names = ['id', 'date', 'open', 'high', 'low', 'close', 'volume'])\n",
    "Total = pd.read_excel('Total.xlsm', names = ['id', 'date', 'open', 'high', 'low', 'close', 'volume'])\n",
    "Veolia = pd.read_excel('Veolia.xlsm', names = ['id', 'date', 'open', 'high', 'low', 'close', 'volume'])\n",
    "Vivendi = pd.read_excel('Vivendi.xlsm', names = ['id', 'date', 'open', 'high', 'low', 'close', 'volume'])\n",
    "\n",
    "datas = [Accord, Axa, BNP, Casino, ENGI, LVMH, Orange, Peugeot, Renault, Total, Veolia, Vivendi]"
   ]
  },
  {
   "cell_type": "code",
   "execution_count": 273,
   "metadata": {},
   "outputs": [
    {
     "name": "stderr",
     "output_type": "stream",
     "text": [
      "C:\\Users\\user\\AppData\\Local\\Temp\\ipykernel_11608\\44500515.py:4: SettingWithCopyWarning: \n",
      "A value is trying to be set on a copy of a slice from a DataFrame\n",
      "\n",
      "See the caveats in the documentation: https://pandas.pydata.org/pandas-docs/stable/user_guide/indexing.html#returning-a-view-versus-a-copy\n",
      "  datas[i]['R'].iloc[j] = (datas[i]['low'].iloc[j+1] + datas[i]['high'].iloc[j+1])/(datas[i]['low'].iloc[j] + datas[i]['high'].iloc[j]) - 1\n",
      "C:\\Users\\user\\AppData\\Local\\Temp\\ipykernel_11608\\44500515.py:4: SettingWithCopyWarning: \n",
      "A value is trying to be set on a copy of a slice from a DataFrame\n",
      "\n",
      "See the caveats in the documentation: https://pandas.pydata.org/pandas-docs/stable/user_guide/indexing.html#returning-a-view-versus-a-copy\n",
      "  datas[i]['R'].iloc[j] = (datas[i]['low'].iloc[j+1] + datas[i]['high'].iloc[j+1])/(datas[i]['low'].iloc[j] + datas[i]['high'].iloc[j]) - 1\n",
      "C:\\Users\\user\\AppData\\Local\\Temp\\ipykernel_11608\\44500515.py:4: SettingWithCopyWarning: \n",
      "A value is trying to be set on a copy of a slice from a DataFrame\n",
      "\n",
      "See the caveats in the documentation: https://pandas.pydata.org/pandas-docs/stable/user_guide/indexing.html#returning-a-view-versus-a-copy\n",
      "  datas[i]['R'].iloc[j] = (datas[i]['low'].iloc[j+1] + datas[i]['high'].iloc[j+1])/(datas[i]['low'].iloc[j] + datas[i]['high'].iloc[j]) - 1\n",
      "C:\\Users\\user\\AppData\\Local\\Temp\\ipykernel_11608\\44500515.py:4: SettingWithCopyWarning: \n",
      "A value is trying to be set on a copy of a slice from a DataFrame\n",
      "\n",
      "See the caveats in the documentation: https://pandas.pydata.org/pandas-docs/stable/user_guide/indexing.html#returning-a-view-versus-a-copy\n",
      "  datas[i]['R'].iloc[j] = (datas[i]['low'].iloc[j+1] + datas[i]['high'].iloc[j+1])/(datas[i]['low'].iloc[j] + datas[i]['high'].iloc[j]) - 1\n",
      "C:\\Users\\user\\AppData\\Local\\Temp\\ipykernel_11608\\44500515.py:4: SettingWithCopyWarning: \n",
      "A value is trying to be set on a copy of a slice from a DataFrame\n",
      "\n",
      "See the caveats in the documentation: https://pandas.pydata.org/pandas-docs/stable/user_guide/indexing.html#returning-a-view-versus-a-copy\n",
      "  datas[i]['R'].iloc[j] = (datas[i]['low'].iloc[j+1] + datas[i]['high'].iloc[j+1])/(datas[i]['low'].iloc[j] + datas[i]['high'].iloc[j]) - 1\n",
      "C:\\Users\\user\\AppData\\Local\\Temp\\ipykernel_11608\\44500515.py:4: SettingWithCopyWarning: \n",
      "A value is trying to be set on a copy of a slice from a DataFrame\n",
      "\n",
      "See the caveats in the documentation: https://pandas.pydata.org/pandas-docs/stable/user_guide/indexing.html#returning-a-view-versus-a-copy\n",
      "  datas[i]['R'].iloc[j] = (datas[i]['low'].iloc[j+1] + datas[i]['high'].iloc[j+1])/(datas[i]['low'].iloc[j] + datas[i]['high'].iloc[j]) - 1\n",
      "C:\\Users\\user\\AppData\\Local\\Temp\\ipykernel_11608\\44500515.py:4: SettingWithCopyWarning: \n",
      "A value is trying to be set on a copy of a slice from a DataFrame\n",
      "\n",
      "See the caveats in the documentation: https://pandas.pydata.org/pandas-docs/stable/user_guide/indexing.html#returning-a-view-versus-a-copy\n",
      "  datas[i]['R'].iloc[j] = (datas[i]['low'].iloc[j+1] + datas[i]['high'].iloc[j+1])/(datas[i]['low'].iloc[j] + datas[i]['high'].iloc[j]) - 1\n",
      "C:\\Users\\user\\AppData\\Local\\Temp\\ipykernel_11608\\44500515.py:4: SettingWithCopyWarning: \n",
      "A value is trying to be set on a copy of a slice from a DataFrame\n",
      "\n",
      "See the caveats in the documentation: https://pandas.pydata.org/pandas-docs/stable/user_guide/indexing.html#returning-a-view-versus-a-copy\n",
      "  datas[i]['R'].iloc[j] = (datas[i]['low'].iloc[j+1] + datas[i]['high'].iloc[j+1])/(datas[i]['low'].iloc[j] + datas[i]['high'].iloc[j]) - 1\n",
      "C:\\Users\\user\\AppData\\Local\\Temp\\ipykernel_11608\\44500515.py:4: SettingWithCopyWarning: \n",
      "A value is trying to be set on a copy of a slice from a DataFrame\n",
      "\n",
      "See the caveats in the documentation: https://pandas.pydata.org/pandas-docs/stable/user_guide/indexing.html#returning-a-view-versus-a-copy\n",
      "  datas[i]['R'].iloc[j] = (datas[i]['low'].iloc[j+1] + datas[i]['high'].iloc[j+1])/(datas[i]['low'].iloc[j] + datas[i]['high'].iloc[j]) - 1\n",
      "C:\\Users\\user\\AppData\\Local\\Temp\\ipykernel_11608\\44500515.py:4: SettingWithCopyWarning: \n",
      "A value is trying to be set on a copy of a slice from a DataFrame\n",
      "\n",
      "See the caveats in the documentation: https://pandas.pydata.org/pandas-docs/stable/user_guide/indexing.html#returning-a-view-versus-a-copy\n",
      "  datas[i]['R'].iloc[j] = (datas[i]['low'].iloc[j+1] + datas[i]['high'].iloc[j+1])/(datas[i]['low'].iloc[j] + datas[i]['high'].iloc[j]) - 1\n",
      "C:\\Users\\user\\AppData\\Local\\Temp\\ipykernel_11608\\44500515.py:4: SettingWithCopyWarning: \n",
      "A value is trying to be set on a copy of a slice from a DataFrame\n",
      "\n",
      "See the caveats in the documentation: https://pandas.pydata.org/pandas-docs/stable/user_guide/indexing.html#returning-a-view-versus-a-copy\n",
      "  datas[i]['R'].iloc[j] = (datas[i]['low'].iloc[j+1] + datas[i]['high'].iloc[j+1])/(datas[i]['low'].iloc[j] + datas[i]['high'].iloc[j]) - 1\n",
      "C:\\Users\\user\\AppData\\Local\\Temp\\ipykernel_11608\\44500515.py:4: SettingWithCopyWarning: \n",
      "A value is trying to be set on a copy of a slice from a DataFrame\n",
      "\n",
      "See the caveats in the documentation: https://pandas.pydata.org/pandas-docs/stable/user_guide/indexing.html#returning-a-view-versus-a-copy\n",
      "  datas[i]['R'].iloc[j] = (datas[i]['low'].iloc[j+1] + datas[i]['high'].iloc[j+1])/(datas[i]['low'].iloc[j] + datas[i]['high'].iloc[j]) - 1\n"
     ]
    },
    {
     "data": {
      "text/plain": [
       "[-0.0006401792778455088,\n",
       " -0.0010525263114721855,\n",
       " -0.001829743349972335,\n",
       " -0.0013104455101185235,\n",
       " -0.000492563944316347,\n",
       " 0.00025878178177848724,\n",
       " -8.334380139173682e-05,\n",
       " 0.00035640289946057446,\n",
       " -0.0017154854383169872,\n",
       " 7.791569222361497e-06,\n",
       " -0.0006615667317761678,\n",
       " -0.00024007184962658568]"
      ]
     },
     "execution_count": 273,
     "metadata": {},
     "output_type": "execute_result"
    }
   ],
   "source": [
    "for i in range(len(datas)):\n",
    "    datas[i]['R'] = np.nan\n",
    "    for j in range(254):\n",
    "        datas[i]['R'].iloc[j] = (datas[i]['low'].iloc[j+1] + datas[i]['high'].iloc[j+1])/(datas[i]['low'].iloc[j] + datas[i]['high'].iloc[j]) - 1\n",
    "\n",
    "ER = [np.mean(datas[i]['R']) for i in range(len(datas))]\n",
    "ER\n"
   ]
  },
  {
   "cell_type": "code",
   "execution_count": 280,
   "metadata": {},
   "outputs": [],
   "source": [
    "modified_datas = []\n",
    "for i in range(len(datas)):\n",
    "    modified_datas.append((10000*(datas[i]['R'].dropna())).apply(int).to_numpy())\n",
    "modified_datas = np.array(modified_datas)"
   ]
  },
  {
   "cell_type": "code",
   "execution_count": 287,
   "metadata": {},
   "outputs": [],
   "source": [
    "def VaR2_(data, alpha):\n",
    "    sorted_data = sorted(data)\n",
    "    freq = []\n",
    "    x = []\n",
    "    n = len(sorted_data)\n",
    "    for i in range(len(sorted_data)):\n",
    "        if i == 0:\n",
    "            freq.append(1/n)\n",
    "            x.append(sorted_data[i])\n",
    "            if (freq[-1] >= 1-alpha) :\n",
    "                return -sorted_data[i]\n",
    "        elif sorted_data[i-1]!=sorted_data[i]:\n",
    "            freq.append(freq[-1]+1/n)\n",
    "            x.append(sorted_data[i])\n",
    "            if (freq[-1] >= 1-alpha) :\n",
    "                return -sorted_data[i]\n",
    "        else:\n",
    "            freq[-1] += 1/n\n",
    "            if (freq[-1] >= 1-alpha) :\n",
    "                return -sorted_data[i]\n",
    "    return freq, x"
   ]
  },
  {
   "cell_type": "code",
   "execution_count": 289,
   "metadata": {},
   "outputs": [
    {
     "name": "stdout",
     "output_type": "stream",
     "text": [
      "[ 1.5371921   2.84563712 -1.15700072  5.2037635  -0.32896454 -1.2860369\n",
      "  1.1763415  -2.22367333 -0.66916914 -2.15065196 -0.14823329 -1.79920434]  -  -0.0080815543636139  -  0.13941023841748892\n"
     ]
    }
   ],
   "source": [
    "winners = {}\n",
    "for i in range(100000):\n",
    "    opt_VaR = np.Inf\n",
    "    ER_x = np.zeros(12)\n",
    "    x = np.zeros(12)\n",
    "    datas_x = np.zeros(len(datas[0]['R']))\n",
    "    for j in range(11):\n",
    "        x[j] = 2*np.random.randn()\n",
    "        ER_x[j] = x[j]*ER[j]\n",
    "        datas_x += (datas[j]['R']*x[j]).to_numpy()\n",
    "    x[11] = 1 - np.sum(x)\n",
    "    ER_x[11] = x[11]*ER[11]\n",
    "    datas_x += (datas[11]['R']*x[11]).to_numpy()\n",
    "    ER_x_val = ER_x.sum()\n",
    "    VaR_x = VaR2_(datas_x.tolist(), 0.95)\n",
    "    #if (ER_x_val >= (1.05**(1/255)) - 1):\n",
    "    if (VaR_x < opt_VaR):\n",
    "        opt_x = x\n",
    "        opt_ER = ER_x_val\n",
    "        opt_VaR = VaR_x\n",
    "    winners[str(x.tolist())] = {'VaR': VaR_x, 'ER': ER_x_val}\n",
    "print(opt_x, ' - ', opt_ER, ' - ', opt_VaR)\n"
   ]
  },
  {
   "cell_type": "code",
   "execution_count": 290,
   "metadata": {},
   "outputs": [],
   "source": [
    "X = []\n",
    "Y = []\n",
    "for key in winners:\n",
    "    X.append(winners[key]['VaR'])\n",
    "    Y.append(winners[key]['ER'])"
   ]
  },
  {
   "cell_type": "code",
   "execution_count": 291,
   "metadata": {},
   "outputs": [
    {
     "data": {
      "text/plain": [
       "<matplotlib.collections.PathCollection at 0x1f66bb09e70>"
      ]
     },
     "execution_count": 291,
     "metadata": {},
     "output_type": "execute_result"
    },
    {
     "data": {
      "image/png": "[encoded data removed]",
      "text/plain": [
       "<Figure size 640x480 with 1 Axes>"
      ]
     },
     "metadata": {},
     "output_type": "display_data"
    }
   ],
   "source": [
    "plt.scatter(X,Y)"
   ]
  },
  {
   "cell_type": "code",
   "execution_count": 298,
   "metadata": {},
   "outputs": [
    {
     "name": "stdout",
     "output_type": "stream",
     "text": [
      "[ 0.85147702  0.5632675   4.16695933 -3.25863392 -0.41698024 -1.69253147\n",
      "  0.54722928 -0.38831587  1.07498674 -1.04570667  2.50732821 -1.90907991]  -  -0.00796148808283984  -  0.1213\n"
     ]
    }
   ],
   "source": [
    "winners = {}\n",
    "for i in range(10000000):\n",
    "    opt_VaR = np.Inf\n",
    "    ER_x = np.zeros(12)\n",
    "    x = np.zeros(12)\n",
    "    datas_x = np.zeros(len(modified_datas[0]))\n",
    "    for j in range(11):\n",
    "        x[j] = 2*np.random.randn()\n",
    "        ER_x[j] = x[j]*ER[j]\n",
    "        datas_x += modified_datas[j]*x[j]\n",
    "    x[11] = 1 - np.sum(x)\n",
    "    ER_x[11] = x[11]*ER[11]\n",
    "    datas_x += modified_datas[11]*x[11]\n",
    "    datas_x = np.array(datas_x, dtype = np.int64)\n",
    "    ER_x_val = ER_x.sum()\n",
    "    l = len(set(datas_x))\n",
    "    VaR_x = VaR2(datas_x, 0.95, l)/10000\n",
    "    #if (ER_x_val >= (1.05**(1/255)) - 1):\n",
    "    if (VaR_x < opt_VaR):\n",
    "        opt_x = x\n",
    "        opt_ER = ER_x_val\n",
    "        opt_VaR = VaR_x\n",
    "    winners[str(x.tolist())] = {'VaR': VaR_x, 'ER': ER_x_val}\n",
    "print(opt_x, ' - ', opt_ER, ' - ', opt_VaR)"
   ]
  },
  {
   "cell_type": "code",
   "execution_count": 299,
   "metadata": {},
   "outputs": [],
   "source": [
    "X = []\n",
    "Y = []\n",
    "for key in winners:\n",
    "    X.append(winners[key]['VaR'])\n",
    "    Y.append(winners[key]['ER'])"
   ]
  },
  {
   "cell_type": "code",
   "execution_count": 300,
   "metadata": {},
   "outputs": [
    {
     "data": {
      "text/plain": [
       "<matplotlib.collections.PathCollection at 0x1f66b9f5db0>"
      ]
     },
     "execution_count": 300,
     "metadata": {},
     "output_type": "execute_result"
    },
    {
     "data": {
      "image/png": "[encoded data removed]",
      "text/plain": [
       "<Figure size 640x480 with 1 Axes>"
      ]
     },
     "metadata": {},
     "output_type": "display_data"
    }
   ],
   "source": [
    "plt.scatter(X,Y)"
   ]
  },
  {
   "cell_type": "code",
   "execution_count": 301,
   "metadata": {},
   "outputs": [
    {
     "name": "stdout",
     "output_type": "stream",
     "text": [
      "[0.0904976273171428, -0.03438195507925349, 0.3155246165604377, -0.08943814572808659, -0.6819344767906492, -0.160253191605498, 0.4797462371902408, 0.4875986553027999, -0.20108705343175368, 0.8188881840258719, 0.259811468539117, -0.28497196630036914]  -  0.00019422484175245854  -  0.021\n"
     ]
    }
   ],
   "source": [
    "min_val_VaR = np.Inf\n",
    "\n",
    "for key in winners:\n",
    "    if (winners[key]['ER'] >= (1.05**(1/255) - 1)):\n",
    "        if (winners[key]['VaR'] < min_val_VaR):\n",
    "            min_val_VaR = winners[key]['VaR']\n",
    "            x_opt_ = key\n",
    "            ER_opt_ = winners[key]['ER']\n",
    "\n",
    "print(x_opt_, \" - \", ER_opt_, \" - \", min_val_VaR)"
   ]
  }
 ],
 "metadata": {
  "kernelspec": {
   "display_name": "Python 3",
   "language": "python",
   "name": "python3"
  },
  "language_info": {
   "codemirror_mode": {
    "name": "ipython",
    "version": 3
   },
   "file_extension": ".py",
   "mimetype": "text/x-python",
   "name": "python",
   "nbconvert_exporter": "python",
   "pygments_lexer": "ipython3",
   "version": "3.10.7"
  },
  "orig_nbformat": 4,
  "vscode": {
   "interpreter": {
    "hash": "fb4569285eef3a3450cb62085a5b1e0da4bce0af555edc33dcf29baf3acc1368"
   }
  }
 },
 "nbformat": 4,
 "nbformat_minor": 2
}
